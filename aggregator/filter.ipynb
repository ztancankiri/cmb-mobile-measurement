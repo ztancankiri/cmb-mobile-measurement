{
 "cells": [
  {
   "cell_type": "code",
   "execution_count": 3,
   "metadata": {},
   "outputs": [],
   "source": [
    "import json"
   ]
  },
  {
   "cell_type": "code",
   "execution_count": 4,
   "metadata": {},
   "outputs": [],
   "source": [
    "with open('zafer_result.json') as f:\n",
    "    data = json.load(f)"
   ]
  },
  {
   "cell_type": "code",
   "execution_count": 9,
   "metadata": {},
   "outputs": [],
   "source": [
    "def getUniqueMacAddresses(data):\n",
    "    macAdd = set()\n",
    "    \n",
    "    for j in data:\n",
    "        for mac in j:\n",
    "            if not mac['MAC'].startswith('01:00:5e') and not mac['MAC'].startswith('33:33') and not mac['MAC'].startswith('ff:ff:ff'):\n",
    "                macAdd.add(mac['MAC'])\n",
    "    \n",
    "    return macAdd"
   ]
  },
  {
   "cell_type": "code",
   "execution_count": 32,
   "metadata": {},
   "outputs": [],
   "source": [
    "def filterData(data):\n",
    "    filtered_data = []\n",
    "    \n",
    "    bulk_data = {}\n",
    "    \n",
    "    for hour in data:\n",
    "        for dev in hour:\n",
    "            if not dev['MAC'].startswith('01:00:5e') and not dev['MAC'].startswith('33:33') and not dev['MAC'].startswith('ff:ff:ff'):\n",
    "                if dev[\"MAC\"] in bulk_data:\n",
    "                    bulk_data[dev[\"MAC\"]] += len(json.dumps(dev))\n",
    "                else:\n",
    "                    bulk_data[dev[\"MAC\"]] = len(json.dumps(dev))\n",
    "    \n",
    "    biggest = 0\n",
    "    biggest_key = None\n",
    "    for key in bulk_data:\n",
    "        if bulk_data[key] > biggest:\n",
    "            biggest = bulk_data[key]\n",
    "            biggest_key = key\n",
    "\n",
    "    for i in range(54):\n",
    "        filtered_data.append([])\n",
    "        for mac in data[i]:\n",
    "            if not mac['MAC'].startswith('01:00:5e') and not mac['MAC'].startswith('33:33') and not mac['MAC'].startswith('ff:ff:ff') and mac['MAC'] != biggest_key:\n",
    "                filtered_data[i].append(mac)\n",
    "    \n",
    "    return filtered_data"
   ]
  },
  {
   "cell_type": "code",
   "execution_count": 35,
   "metadata": {},
   "outputs": [],
   "source": [
    "filtered = filterData(data)"
   ]
  },
  {
   "cell_type": "code",
   "execution_count": 17,
   "metadata": {},
   "outputs": [],
   "source": [
    "with open('zafer_filtered2.json', 'w') as f:\n",
    "    json.dump(filtered, f, indent = 4)"
   ]
  }
 ],
 "metadata": {
  "kernelspec": {
   "display_name": "Python 3",
   "language": "python",
   "name": "python3"
  },
  "language_info": {
   "codemirror_mode": {
    "name": "ipython",
    "version": 3
   },
   "file_extension": ".py",
   "mimetype": "text/x-python",
   "name": "python",
   "nbconvert_exporter": "python",
   "pygments_lexer": "ipython3",
   "version": "3.7.6"
  }
 },
 "nbformat": 4,
 "nbformat_minor": 4
}
