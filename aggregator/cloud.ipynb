{
 "cells": [
  {
   "cell_type": "code",
   "execution_count": 6,
   "metadata": {},
   "outputs": [
    {
     "name": "stdout",
     "output_type": "stream",
     "text": [
      "Collecting netaddr\n",
      "  Downloading netaddr-0.8.0-py2.py3-none-any.whl (1.9 MB)\n",
      "Installing collected packages: netaddr\n",
      "Successfully installed netaddr-0.8.0\n"
     ]
    }
   ],
   "source": [
    "!pip install netaddr"
   ]
  },
  {
   "cell_type": "code",
   "execution_count": 7,
   "metadata": {},
   "outputs": [],
   "source": [
    "import cloud_ip_ranges as cloud"
   ]
  },
  {
   "cell_type": "code",
   "execution_count": 8,
   "metadata": {},
   "outputs": [],
   "source": [
    "cloud.init()"
   ]
  },
  {
   "cell_type": "code",
   "execution_count": 11,
   "metadata": {},
   "outputs": [],
   "source": [
    "def extract_cloud_data(data):\n",
    "    cloud_data = []\n",
    "    for i in range(54):\n",
    "        cloud_data.append({'ipv4':[], 'ipv6':[]})\n",
    "    \n",
    "    for i in range(54):\n",
    "        for j in data2[i]:\n",
    "            for ipv4 in j['ipv4']:\n",
    "                target_ip = IPAddress(ipv4)\n",
    "                temp = cloud.matching_providers(target_ip)\n",
    "                if temp != None:\n",
    "                    if len(temp['region']) > 0:\n",
    "                        cloud_data[i]['ipv4'].append({'provider':temp['provider'], 'region':temp['region'], 'ip':ipv4})\n",
    "                    else:\n",
    "                        cloud_data[i]['ipv4'].append({'provider':temp['provider'], 'ip':ipv4})\n",
    "            for ipv6 in j['ipv6']:\n",
    "                target_ip = IPAddress(ipv6)\n",
    "                temp = cloud.matching_providers(target_ip)\n",
    "                if temp != None:\n",
    "                    if len(temp['region']) > 0:\n",
    "                        cloud_data[i]['ipv6'].append({'provider':temp['provider'], 'region':temp['region'], 'ip':ipv6})\n",
    "                    else:\n",
    "                        cloud_data[i]['ipv6'].append({'provider':temp['provider'], 'ip':ipv6})\n",
    "    \n",
    "    return cloud_data"
   ]
  },
  {
   "cell_type": "code",
   "execution_count": null,
   "metadata": {},
   "outputs": [],
   "source": [
    "with open('zafer_result.json') as f:\n",
    "    data = json.load(f)"
   ]
  },
  {
   "cell_type": "code",
   "execution_count": null,
   "metadata": {},
   "outputs": [],
   "source": [
    "cloud_data = extract_cloud_data(data)"
   ]
  },
  {
   "cell_type": "code",
   "execution_count": null,
   "metadata": {},
   "outputs": [],
   "source": [
    "with open('zafer_cloud.json', 'w') as f:\n",
    "    json.dump(cloud_data, f, indent = 4)"
   ]
  }
 ],
 "metadata": {
  "kernelspec": {
   "display_name": "Python 3",
   "language": "python",
   "name": "python3"
  },
  "language_info": {
   "codemirror_mode": {
    "name": "ipython",
    "version": 3
   },
   "file_extension": ".py",
   "mimetype": "text/x-python",
   "name": "python",
   "nbconvert_exporter": "python",
   "pygments_lexer": "ipython3",
   "version": "3.7.6"
  }
 },
 "nbformat": 4,
 "nbformat_minor": 5
}
