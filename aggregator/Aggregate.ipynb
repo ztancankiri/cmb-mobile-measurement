{
 "cells": [
  {
   "cell_type": "code",
   "execution_count": 1,
   "metadata": {},
   "outputs": [],
   "source": [
    "import json"
   ]
  },
  {
   "cell_type": "code",
   "execution_count": 2,
   "metadata": {},
   "outputs": [],
   "source": [
    "with open('zafer_filtered.json') as f:\n",
    "    data_zafer = json.load(f)"
   ]
  },
  {
   "cell_type": "code",
   "execution_count": 3,
   "metadata": {},
   "outputs": [],
   "source": [
    "with open('erdem_filtered.json') as f:\n",
    "    data_erdem = json.load(f)"
   ]
  },
  {
   "cell_type": "code",
   "execution_count": 4,
   "metadata": {},
   "outputs": [],
   "source": [
    "with open('halil_filtered.json') as f:\n",
    "    data_halil = json.load(f)"
   ]
  },
  {
   "cell_type": "code",
   "execution_count": 5,
   "metadata": {},
   "outputs": [],
   "source": [
    "def protocolAdder(data):\n",
    "    result = [{'ARP': 0, 'DNS': 0, 'HTTP': 0, 'ICMP': 0, 'IPv4': 0, 'IPv6': 0, 'SSH': 0, 'SSL': 0, 'TCP': 0, 'UDP': 0} for i in range(54)]\n",
    "    for i in range(54):\n",
    "        for dev in data[i]:\n",
    "            result[i]['ARP'] += dev['protocols']['ARP']\n",
    "            result[i]['DNS'] += dev['protocols']['DNS']\n",
    "            result[i]['HTTP'] += dev['protocols']['HTTP']\n",
    "            result[i]['ICMP'] += dev['protocols']['ICMP']\n",
    "            result[i]['IPv4'] += dev['protocols']['IPv4']\n",
    "            result[i]['IPv6'] += dev['protocols']['IPv6']\n",
    "            result[i]['SSH'] += dev['protocols']['SSH']\n",
    "            result[i]['SSL'] += dev['protocols']['SSL']\n",
    "            result[i]['TCP'] += dev['protocols']['TCP']\n",
    "            result[i]['UDP'] += dev['protocols']['UDP']\n",
    "    return result"
   ]
  },
  {
   "cell_type": "code",
   "execution_count": 6,
   "metadata": {},
   "outputs": [],
   "source": [
    "protocols_zafer = protocolAdder(data_zafer)\n",
    "protocols_erdem = protocolAdder(data_erdem)\n",
    "protocols_halil = protocolAdder(data_halil)"
   ]
  },
  {
   "cell_type": "code",
   "execution_count": 7,
   "metadata": {},
   "outputs": [],
   "source": [
    "with open('protocols_zafer.json', 'w') as f:\n",
    "    json.dump(protocols_zafer, f, indent = 4)\n",
    "with open('protocols_erdem.json', 'w') as f:\n",
    "    json.dump(protocols_erdem, f, indent = 4)\n",
    "with open('protocols_halil.json', 'w') as f:\n",
    "    json.dump(protocols_halil, f, indent = 4)"
   ]
  },
  {
   "cell_type": "code",
   "execution_count": 8,
   "metadata": {},
   "outputs": [],
   "source": [
    "def total_sum_protocols(data):\n",
    "    result = [{'ARP': 0, 'DNS': 0, 'HTTP': 0, 'ICMP': 0, 'IPv4': 0, 'IPv6': 0, 'SSH': 0, 'SSL': 0, 'TCP': 0, 'UDP': 0} for i in range(54)]\n",
    "    for d in data:\n",
    "        for i in range(54):\n",
    "            result[i]['ARP'] += d[i]['ARP']\n",
    "            result[i]['DNS'] += d[i]['DNS']\n",
    "            result[i]['HTTP'] += d[i]['HTTP']\n",
    "            result[i]['ICMP'] += d[i]['ICMP']\n",
    "            result[i]['IPv4'] += d[i]['IPv4']\n",
    "            result[i]['IPv6'] += d[i]['IPv6']\n",
    "            result[i]['SSH'] += d[i]['SSH']\n",
    "            result[i]['SSL'] += d[i]['SSL']\n",
    "            result[i]['TCP'] += d[i]['TCP']\n",
    "            result[i]['UDP'] += d[i]['UDP']\n",
    "    return result"
   ]
  },
  {
   "cell_type": "code",
   "execution_count": 9,
   "metadata": {},
   "outputs": [],
   "source": [
    "total_sum_p = total_sum_protocols([protocols_zafer, protocols_erdem, protocols_halil])"
   ]
  },
  {
   "cell_type": "code",
   "execution_count": 10,
   "metadata": {},
   "outputs": [],
   "source": [
    "with open('total_sum_protocols.json', 'w') as f:\n",
    "    json.dump(total_sum_p, f, indent = 4)"
   ]
  },
  {
   "cell_type": "code",
   "execution_count": 11,
   "metadata": {},
   "outputs": [],
   "source": [
    "with open('zafer_cloud.json') as f:\n",
    "    zafer_cloud = json.load(f)\n",
    "with open('erdem_cloud.json') as f:\n",
    "    erdem_cloud = json.load(f)\n",
    "with open('halil_cloud.json') as f:\n",
    "    halil_cloud = json.load(f)"
   ]
  },
  {
   "cell_type": "code",
   "execution_count": 12,
   "metadata": {},
   "outputs": [],
   "source": [
    "def cloudAdder(data):\n",
    "    result = [{'ipv4':{'AWS': 0, 'Azure': 0, 'GCP': 0, 'OCI': 0, 'DigitalOcean': 0}, 'ipv6':{'AWS': 0, 'Azure': 0, 'GCP': 0, 'OCI': 0, 'DigitalOcean': 0}} for i in range(54)]\n",
    "    for i in range(54):\n",
    "        for ipv4 in data[i]['ipv4']:\n",
    "            result[i]['ipv4'][ipv4['provider']] += 1\n",
    "        for ipv6 in data[i]['ipv6']:\n",
    "            result[i]['ipv6'][ipv6['provider']] += 1\n",
    "    return result"
   ]
  },
  {
   "cell_type": "code",
   "execution_count": 13,
   "metadata": {},
   "outputs": [],
   "source": [
    "zafer_cloud_provider_sum = cloudAdder(zafer_cloud)\n",
    "erdem_cloud_provider_sum = cloudAdder(erdem_cloud)\n",
    "halil_cloud_provider_sum = cloudAdder(halil_cloud)\n",
    "with open('zafer_cloud_provider_sum.json', 'w') as f:\n",
    "    json.dump(zafer_cloud_provider_sum, f, indent = 4)\n",
    "with open('erdem_cloud_provider_sum.json', 'w') as f:\n",
    "    json.dump(erdem_cloud_provider_sum, f, indent = 4)\n",
    "with open('halil_cloud_provider_sum.json', 'w') as f:\n",
    "    json.dump(halil_cloud_provider_sum, f, indent = 4)"
   ]
  },
  {
   "cell_type": "code",
   "execution_count": 14,
   "metadata": {},
   "outputs": [],
   "source": [
    "def total_sum_cloud_providers(data):\n",
    "    result = [{'ipv4':{'AWS': 0, 'Azure': 0, 'GCP': 0, 'OCI': 0, 'DigitalOcean': 0}, 'ipv6':{'AWS': 0, 'Azure': 0, 'GCP': 0, 'OCI': 0, 'DigitalOcean': 0}} for i in range(54)]\n",
    "    for d in data:\n",
    "        for i in range(54):\n",
    "            for ipv4 in d[i]['ipv4']:\n",
    "                result[i]['ipv4'][ipv4] += d[i]['ipv4'][ipv4]\n",
    "            for ipv6 in d[i]['ipv6']:\n",
    "                result[i]['ipv6'][ipv6] += d[i]['ipv6'][ipv6]\n",
    "    return result"
   ]
  },
  {
   "cell_type": "code",
   "execution_count": 15,
   "metadata": {},
   "outputs": [],
   "source": [
    "total_sum_cloud_p = total_sum_cloud_providers([zafer_cloud_provider_sum, erdem_cloud_provider_sum, halil_cloud_provider_sum])\n",
    "with open('total_sum_cloud_providers.json', 'w') as f:\n",
    "    json.dump(total_sum_cloud_p, f, indent = 4)"
   ]
  },
  {
   "cell_type": "code",
   "execution_count": 16,
   "metadata": {},
   "outputs": [],
   "source": [
    "def full_cloud_provider_sum(data):\n",
    "    result = {'ipv4':{'AWS': 0, 'Azure': 0, 'GCP': 0, 'OCI': 0, 'DigitalOcean': 0}, 'ipv6':{'AWS': 0, 'Azure': 0, 'GCP': 0, 'OCI': 0, 'DigitalOcean': 0}}\n",
    "    for i in range(54):\n",
    "        for ipv4 in data[i]['ipv4']:\n",
    "            result['ipv4'][ipv4] += data[i]['ipv4'][ipv4]\n",
    "        for ipv6 in data[i]['ipv6']:\n",
    "            result['ipv6'][ipv6] += data[i]['ipv6'][ipv6]\n",
    "    return result"
   ]
  },
  {
   "cell_type": "code",
   "execution_count": 17,
   "metadata": {},
   "outputs": [],
   "source": [
    "full_cloud_provider_s = full_cloud_provider_sum(total_sum_cloud_p)\n",
    "with open('full_cloud_provider_sum.json', 'w') as f:\n",
    "    json.dump(full_cloud_provider_s, f, indent = 4)"
   ]
  },
  {
   "cell_type": "code",
   "execution_count": 18,
   "metadata": {},
   "outputs": [],
   "source": [
    "def full_total_sum_protocols(data):\n",
    "    result = {'ARP': 0, 'DNS': 0, 'HTTP': 0, 'ICMP': 0, 'IPv4': 0, 'IPv6': 0, 'SSH': 0, 'SSL': 0, 'TCP': 0, 'UDP': 0}\n",
    "    for i in range(54):\n",
    "        for k in data[i]:\n",
    "            result[k] += data[i][k]\n",
    "    return result"
   ]
  },
  {
   "cell_type": "code",
   "execution_count": 19,
   "metadata": {},
   "outputs": [],
   "source": [
    "full_total_sum_p = full_total_sum_protocols(total_sum_p)\n",
    "with open('full_total_sum_protocols.json', 'w') as f:\n",
    "    json.dump(full_total_sum_p, f, indent = 4)"
   ]
  },
  {
   "cell_type": "code",
   "execution_count": 21,
   "metadata": {},
   "outputs": [],
   "source": [
    "import csv\n",
    "import time\n",
    "import ipaddress\n",
    "\n",
    "%matplotlib inline\n",
    "import numpy as np\n",
    "import matplotlib.pyplot as plt"
   ]
  },
  {
   "cell_type": "code",
   "execution_count": 22,
   "metadata": {},
   "outputs": [],
   "source": [
    "def getDistinctIPv4(data):\n",
    "    result = set()\n",
    "    for hour in data:\n",
    "        for dev in hour:\n",
    "            for ipv4 in dev[\"ipv4\"]:\n",
    "                result.add(ipv4)\n",
    "\n",
    "    return list(result)"
   ]
  },
  {
   "cell_type": "code",
   "execution_count": 23,
   "metadata": {},
   "outputs": [],
   "source": [
    "def getDevHourUsage(data):\n",
    "    result = [[] for i in range(54)]\n",
    "    for i in range(54):\n",
    "        for dev in data[i]:\n",
    "            s = 0\n",
    "            for p in dev[\"protocols\"]:\n",
    "                s += dev[\"protocols\"][p]\n",
    "            result[i].append({dev[\"MAC\"]: s})\n",
    "    \n",
    "    result2 = {}\n",
    "    h_i = 0\n",
    "    for hour in result:\n",
    "        for dev in hour:\n",
    "            k = list(dev.keys())[0]\n",
    "            if k in result2:\n",
    "                result2[k][h_i] = dev[k]\n",
    "            else:\n",
    "                result2[k] = [0 for i in range(54)]\n",
    "        \n",
    "        h_i += 1\n",
    "                \n",
    "    return result2"
   ]
  },
  {
   "cell_type": "code",
   "execution_count": null,
   "metadata": {},
   "outputs": [],
   "source": []
  }
 ],
 "metadata": {
  "kernelspec": {
   "display_name": "Python 3",
   "language": "python",
   "name": "python3"
  },
  "language_info": {
   "codemirror_mode": {
    "name": "ipython",
    "version": 3
   },
   "file_extension": ".py",
   "mimetype": "text/x-python",
   "name": "python",
   "nbconvert_exporter": "python",
   "pygments_lexer": "ipython3",
   "version": "3.7.6"
  }
 },
 "nbformat": 4,
 "nbformat_minor": 4
}
